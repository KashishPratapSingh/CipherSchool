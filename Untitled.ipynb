{
 "cells": [
  {
   "cell_type": "code",
   "execution_count": 2,
   "id": "8402f420-a868-4250-a0fb-7fd29be36e25",
   "metadata": {},
   "outputs": [
    {
     "name": "stdout",
     "output_type": "stream",
     "text": [
      "hello\n"
     ]
    }
   ],
   "source": [
    "print(\"hello\")\n"
   ]
  },
  {
   "cell_type": "code",
   "execution_count": 4,
   "id": "157152ce-3e67-42d3-9421-82082202bcd9",
   "metadata": {},
   "outputs": [],
   "source": [
    "name=\"Shashank\"\n",
    "age=20\n",
    "height=5.9"
   ]
  },
  {
   "cell_type": "code",
   "execution_count": 6,
   "id": "6dd9eb7a-9dc9-47d8-997e-d363451e5606",
   "metadata": {},
   "outputs": [
    {
     "name": "stdout",
     "output_type": "stream",
     "text": [
      "Shashank 20 5.9\n"
     ]
    }
   ],
   "source": [
    "print(name,age,height)"
   ]
  },
  {
   "cell_type": "code",
   "execution_count": 8,
   "id": "0bcf2e6b-ee01-424d-bfc4-5d419e3801d0",
   "metadata": {},
   "outputs": [
    {
     "name": "stdout",
     "output_type": "stream",
     "text": [
      "10\n"
     ]
    }
   ],
   "source": [
    "num=-10\n",
    "print(abs(num))"
   ]
  },
  {
   "cell_type": "code",
   "execution_count": 10,
   "id": "ec377a40-4f65-4768-b758-5daa8b88301d",
   "metadata": {},
   "outputs": [
    {
     "name": "stdout",
     "output_type": "stream",
     "text": [
      "100\n"
     ]
    }
   ],
   "source": [
    "print(pow(num,2))"
   ]
  },
  {
   "cell_type": "code",
   "execution_count": 2,
   "id": "05d16f45-9385-4472-be70-fbdbb7a49685",
   "metadata": {},
   "outputs": [
    {
     "data": {
      "text/plain": [
       "{'name': 'Shasahnk', 'age': 20}"
      ]
     },
     "execution_count": 2,
     "metadata": {},
     "output_type": "execute_result"
    }
   ],
   "source": [
    "person={\"name\":\"Shasahnk\",\"age\":20}\n",
    "person"
   ]
  },
  {
   "cell_type": "code",
   "execution_count": 4,
   "id": "f87dda0b-3334-4028-9ea2-a238002b61c2",
   "metadata": {},
   "outputs": [
    {
     "name": "stdout",
     "output_type": "stream",
     "text": [
      "dict_keys(['name', 'age'])\n"
     ]
    }
   ],
   "source": [
    "print(person.keys())"
   ]
  },
  {
   "cell_type": "code",
   "execution_count": 6,
   "id": "008afa1c-a2ae-48f9-a4d7-e7d9a5753d0a",
   "metadata": {},
   "outputs": [
    {
     "name": "stdout",
     "output_type": "stream",
     "text": [
      "dict_items([('name', 'Shasahnk'), ('age', 20)])\n"
     ]
    }
   ],
   "source": [
    "print(person.items())"
   ]
  },
  {
   "cell_type": "code",
   "execution_count": 8,
   "id": "a84b2650-3745-4a92-9879-c8a6f959966c",
   "metadata": {},
   "outputs": [],
   "source": [
    "  se={1,2,3,4,4}"
   ]
  },
  {
   "cell_type": "code",
   "execution_count": 10,
   "id": "c573ac21-48e0-4e33-8dfd-be2c6423422e",
   "metadata": {},
   "outputs": [
    {
     "data": {
      "text/plain": [
       "{1, 2, 3, 4}"
      ]
     },
     "execution_count": 10,
     "metadata": {},
     "output_type": "execute_result"
    }
   ],
   "source": [
    "se"
   ]
  },
  {
   "cell_type": "code",
   "execution_count": 12,
   "id": "1a81bd18-8dd6-4c5a-a900-ce463c253190",
   "metadata": {},
   "outputs": [
    {
     "name": "stdout",
     "output_type": "stream",
     "text": [
      "4\n"
     ]
    }
   ],
   "source": [
    "print(len(se))"
   ]
  },
  {
   "cell_type": "code",
   "execution_count": 16,
   "id": "0728fdfc-3f42-4cc4-8216-994c5625c562",
   "metadata": {},
   "outputs": [
    {
     "name": "stdin",
     "output_type": "stream",
     "text": [
      " 45\n"
     ]
    },
    {
     "name": "stdout",
     "output_type": "stream",
     "text": [
      "Adult\n"
     ]
    }
   ],
   "source": [
    "age=int(input())\n",
    "if age<18:\n",
    "    print(\"Minor\")\n",
    "elif age>=18 and age<65:\n",
    "    print(\"Adult\")\n",
    "else:\n",
    "    print(\"Senior\")"
   ]
  },
  {
   "cell_type": "code",
   "execution_count": 20,
   "id": "bb855a80-0b40-495e-8133-6cc3140f9d4c",
   "metadata": {},
   "outputs": [
    {
     "name": "stdin",
     "output_type": "stream",
     "text": [
      " 40\n"
     ]
    },
    {
     "name": "stdout",
     "output_type": "stream",
     "text": [
      "Even\n"
     ]
    }
   ],
   "source": [
    "number=int(input())\n",
    "if number%2==0:\n",
    "    print(\"Even\")\n",
    "else:\n",
    "    print(\"Odd\")"
   ]
  },
  {
   "cell_type": "code",
   "execution_count": 28,
   "id": "c5c8eaab-9d2e-437c-a81a-d1a09938410c",
   "metadata": {},
   "outputs": [
    {
     "name": "stdin",
     "output_type": "stream",
     "text": [
      " 45\n",
      " 1.75\n"
     ]
    },
    {
     "name": "stdout",
     "output_type": "stream",
     "text": [
      "Underweight\n"
     ]
    }
   ],
   "source": [
    "weight=int(input())\n",
    "height=float(input())\n",
    "bmi=weight/(height**2)\n",
    "if bmi<18.5:\n",
    "    print(\"Underweight\")\n",
    "else:\n",
    "    if bmi<24.9:\n",
    "        print(\"Normal Weight\")\n",
    "    else:\n",
    "        if bmi<29.9:\n",
    "            print(\"overweight\")\n",
    "        else:\n",
    "            print(\"Obesity\")"
   ]
  },
  {
   "cell_type": "code",
   "execution_count": 30,
   "id": "bd786d71-f31b-44a0-9368-d9d0abe7fb0b",
   "metadata": {},
   "outputs": [
    {
     "name": "stdout",
     "output_type": "stream",
     "text": [
      "0\n",
      "1\n",
      "2\n",
      "3\n",
      "4\n"
     ]
    }
   ],
   "source": [
    "#loops\n",
    "for i in range(5):\n",
    "    print(i)"
   ]
  },
  {
   "cell_type": "code",
   "execution_count": 36,
   "id": "dafa3e72-1f70-4770-96cd-ab35b8164fea",
   "metadata": {},
   "outputs": [
    {
     "name": "stdout",
     "output_type": "stream",
     "text": [
      "2\n",
      "4\n",
      "6\n",
      "8\n",
      "10\n",
      "12\n",
      "14\n",
      "16\n",
      "18\n",
      "20\n"
     ]
    }
   ],
   "source": [
    "for i in range(1,11):\n",
    "    print(i*2)"
   ]
  },
  {
   "cell_type": "code",
   "execution_count": 38,
   "id": "7fcc5578-087f-483a-bcc7-06a5c5b57822",
   "metadata": {},
   "outputs": [
    {
     "name": "stdout",
     "output_type": "stream",
     "text": [
      "apple\n",
      "banana\n",
      "cherry\n",
      "date\n"
     ]
    }
   ],
   "source": [
    "fruits=[\"apple\",\"banana\",\"cherry\",\"date\"]\n",
    "for i in fruits:\n",
    "    print(i)"
   ]
  },
  {
   "cell_type": "code",
   "execution_count": 40,
   "id": "8886e45f-31da-4c7f-a8b7-cd1f7179603d",
   "metadata": {},
   "outputs": [
    {
     "name": "stdout",
     "output_type": "stream",
     "text": [
      "h\n",
      "e\n",
      "l\n",
      "l\n",
      "o\n"
     ]
    }
   ],
   "source": [
    "g=\"hello\"\n",
    "for i in g:\n",
    "    print(i)"
   ]
  },
  {
   "cell_type": "code",
   "execution_count": 42,
   "id": "41de6ec0-1339-4085-bc39-9d060d85bbe0",
   "metadata": {},
   "outputs": [
    {
     "name": "stdout",
     "output_type": "stream",
     "text": [
      "name:Shashank\n",
      "age:20\n",
      "city:NewYork\n"
     ]
    }
   ],
   "source": [
    "person={\"name\":\"Shashank\", \"age\":20, \"city\":\"NewYork\"}\n",
    "for key, value in person.items():\n",
    "    print(f\"{key}:{value}\")"
   ]
  },
  {
   "cell_type": "code",
   "execution_count": 44,
   "id": "f8fb4a80-678e-42d5-bcdf-9cb1b33ac80b",
   "metadata": {},
   "outputs": [
    {
     "name": "stdout",
     "output_type": "stream",
     "text": [
      "i=0, j=0\n",
      "i=0, j=1\n",
      "i=1, j=0\n",
      "i=1, j=1\n",
      "i=2, j=0\n",
      "i=2, j=1\n"
     ]
    }
   ],
   "source": [
    "for i in range(3):\n",
    "    for j in range(2):\n",
    "        print(f\"i={i}, j={j}\")"
   ]
  },
  {
   "cell_type": "code",
   "execution_count": 48,
   "id": "55433b30-f5fa-4b9f-8d49-dc4740faa6b8",
   "metadata": {},
   "outputs": [
    {
     "name": "stdout",
     "output_type": "stream",
     "text": [
      "0\n",
      "1\n",
      "2\n",
      "3\n",
      "4\n"
     ]
    }
   ],
   "source": [
    "count=0\n",
    "while count<5:\n",
    "    print(count)\n",
    "    count+=1"
   ]
  },
  {
   "cell_type": "code",
   "execution_count": 52,
   "id": "d62ad861-1d5b-4496-a5cb-1332a924aebe",
   "metadata": {},
   "outputs": [
    {
     "name": "stdout",
     "output_type": "stream",
     "text": [
      "0\n",
      "1\n",
      "2\n"
     ]
    }
   ],
   "source": [
    "count=0\n",
    "while True:\n",
    "    print(count)\n",
    "    count+=1\n",
    "    if count>=3:\n",
    "        break"
   ]
  },
  {
   "cell_type": "code",
   "execution_count": 61,
   "id": "bcebad87-6d17-4b94-bb03-d06e7ed08d1b",
   "metadata": {},
   "outputs": [
    {
     "name": "stdout",
     "output_type": "stream",
     "text": [
      "1\n",
      "3\n",
      "5\n",
      "7\n",
      "9\n"
     ]
    }
   ],
   "source": [
    "count=0\n",
    "while count<10:\n",
    "    count+=1\n",
    "    if count%2==0:\n",
    "        continue\n",
    "    print(count)   "
   ]
  },
  {
   "cell_type": "code",
   "execution_count": null,
   "id": "a47d7a0d-0338-4e99-881f-d06258ba5796",
   "metadata": {},
   "outputs": [],
   "source": []
  }
 ],
 "metadata": {
  "kernelspec": {
   "display_name": "Python 3 (ipykernel)",
   "language": "python",
   "name": "python3"
  },
  "language_info": {
   "codemirror_mode": {
    "name": "ipython",
    "version": 3
   },
   "file_extension": ".py",
   "mimetype": "text/x-python",
   "name": "python",
   "nbconvert_exporter": "python",
   "pygments_lexer": "ipython3",
   "version": "3.11.7"
  }
 },
 "nbformat": 4,
 "nbformat_minor": 5
}
